{
 "cells": [
  {
   "cell_type": "markdown",
   "id": "11102a4e",
   "metadata": {},
   "source": [
    "### Exercici 1\n",
    "\n",
    "L'exercici consisteix a crear un programa que et classifiqui una variable numèrica en funció de l’escala Suspès/Aprovat/Notable/Excel·lent. "
   ]
  },
  {
   "cell_type": "code",
   "execution_count": 17,
   "id": "36287bec",
   "metadata": {},
   "outputs": [
    {
     "name": "stdout",
     "output_type": "stream",
     "text": [
      "Nota random:  3\n",
      "Classificació:  Suspes\n"
     ]
    }
   ],
   "source": [
    "import random \n",
    "\n",
    "def nota(num):\n",
    "    if num < 5:\n",
    "        return \"Suspes\"\n",
    "    elif num > 8:\n",
    "        return \"Excelent\"\n",
    "    elif num >= 5 and num < 7:\n",
    "        return \"Aprovat\"\n",
    "    else:\n",
    "        return \"Notable\"\n",
    "        \n",
    "x = random.randint(0,11)\n",
    "print('Nota random: ', x)\n",
    "print('Classificació: ', nota(x))"
   ]
  },
  {
   "cell_type": "markdown",
   "id": "c79ad02d",
   "metadata": {},
   "source": [
    "### Exercici 2\n",
    "\n",
    "Utilitzant el següent tutorial Programiz: Python Input, Output and Import crea un programa que et pregunti dos números. T’ha de mostrar un missatge dient si el primer és més gran, el segon és més gran o són iguals."
   ]
  },
  {
   "cell_type": "code",
   "execution_count": 18,
   "id": "d268949c",
   "metadata": {},
   "outputs": [
    {
     "name": "stdout",
     "output_type": "stream",
     "text": [
      "Introdueix el primer numero: 5\n",
      "Introdueix el segon numero: 10\n",
      "El segon es mes gran\n"
     ]
    }
   ],
   "source": [
    "num1 = int(input('Introdueix el primer numero: '))\n",
    "num2 = int(input('Introdueix el segon numero: '))\n",
    "if num1 > num2:\n",
    "    print(\"El primer es mes gran\")\n",
    "elif num1 < num2:\n",
    "    print(\"El segon es mes gran\")\n",
    "else:\n",
    "    print(\"Son iguals\")\n"
   ]
  },
  {
   "cell_type": "markdown",
   "id": "67dbd970",
   "metadata": {},
   "source": [
    "### Exercici 3\n",
    "\n",
    "Crea un programa que et pregunti el teu nom, i et demani un número. Si el número és 0, hauria de mostrar un missatge d’error. En cas contrari, hauria de mostrar el nom repetit tants cops com indiqui el número. Per exemple, “Joan Joan Joan”."
   ]
  },
  {
   "cell_type": "code",
   "execution_count": 1,
   "id": "83d7b4e8",
   "metadata": {},
   "outputs": [
    {
     "name": "stdout",
     "output_type": "stream",
     "text": [
      "Hola! com et dius? gr\n",
      "Escriu un numero8\n",
      "gr gr gr gr gr gr gr gr \n"
     ]
    }
   ],
   "source": [
    "nom = input(\"Hola! com et dius? \")\n",
    "num = int(input(\"Escriu un numero \"))\n",
    "if num != 0:\n",
    "    print((nom + ' ') * num)\n",
    "else: print(\"ERROR\")"
   ]
  },
  {
   "cell_type": "markdown",
   "id": "1588be10",
   "metadata": {},
   "source": [
    "### Exercici 4\n",
    "\n",
    "Crea un programa que donada una llista qualsevol, et digui si es simètrica o no. Si ho és, que et digui quants elements té."
   ]
  },
  {
   "cell_type": "code",
   "execution_count": 93,
   "id": "4dbf89da",
   "metadata": {},
   "outputs": [
    {
     "name": "stdout",
     "output_type": "stream",
     "text": [
      "No es simetrica\n"
     ]
    }
   ],
   "source": [
    "def simetr(lst):\n",
    "    l_normal = lst \n",
    "    l_inverse = lst[::-1]\n",
    "    if l_normal == l_inverse:\n",
    "        return (f'Si es simetrica i te {len(lst)} elements')\n",
    "    else:\n",
    "        return 'No es simetrica'\n",
    "\n",
    "    \n",
    "l = [1,1,2,1]\n",
    "print(simetr(l))\n"
   ]
  },
  {
   "cell_type": "markdown",
   "id": "ee643d68",
   "metadata": {},
   "source": [
    "### Exercici 5\n",
    "\n",
    "Crea un programa que donada una llista, et digui quants números coincideixen amb la seva posició. Per exemple [3,4,2,0,2,3,6] el 2 i el 6 coincideixen."
   ]
  },
  {
   "cell_type": "code",
   "execution_count": 48,
   "id": "66644778",
   "metadata": {
    "code_folding": []
   },
   "outputs": [
    {
     "name": "stdout",
     "output_type": "stream",
     "text": [
      "Coincideixen:  [0, 2, 3, 5]\n"
     ]
    }
   ],
   "source": [
    "l = [0,4,2,3,2,5]\n",
    "match = []\n",
    "for x in l:\n",
    "    if x == l[x] and x not in match:\n",
    "        match.append(x)\n",
    "    \n",
    "    \n",
    "print(\"Coincideixen: \", match)\n",
    "    "
   ]
  },
  {
   "cell_type": "code",
   "execution_count": null,
   "id": "b6b843aa",
   "metadata": {},
   "outputs": [],
   "source": []
  }
 ],
 "metadata": {
  "kernelspec": {
   "display_name": "Python 3 (ipykernel)",
   "language": "python",
   "name": "python3"
  },
  "language_info": {
   "codemirror_mode": {
    "name": "ipython",
    "version": 3
   },
   "file_extension": ".py",
   "mimetype": "text/x-python",
   "name": "python",
   "nbconvert_exporter": "python",
   "pygments_lexer": "ipython3",
   "version": "3.9.7"
  }
 },
 "nbformat": 4,
 "nbformat_minor": 5
}
