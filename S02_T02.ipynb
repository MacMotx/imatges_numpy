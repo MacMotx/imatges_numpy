{
 "cells": [
  {
   "cell_type": "markdown",
   "id": "73f44fa1",
   "metadata": {},
   "source": [
    "### Exercici 1 \n",
    "\n",
    "Crea un np.array d'una dimensió, que inclogui l'almenys 8 nombres sencers, data type int64. Mostra la dimensió i la forma de la matriu."
   ]
  },
  {
   "cell_type": "code",
   "execution_count": 3,
   "id": "2f412d5d",
   "metadata": {},
   "outputs": [
    {
     "name": "stdout",
     "output_type": "stream",
     "text": [
      "Dimensions:  1\n",
      "Forma:  (8,)\n"
     ]
    }
   ],
   "source": [
    "import numpy as np\n",
    "\n",
    "myarray = np.array([4,5,8,7,6,9,1,2], dtype = np.int64)\n",
    "\n",
    "print('Dimensions: ', myarray.ndim)\n",
    "print('Forma: ', myarray.shape)"
   ]
  },
  {
   "cell_type": "markdown",
   "id": "dd174b1e",
   "metadata": {},
   "source": [
    "### Exercici 2\n",
    "\n",
    "De la matriu de l'exercici 1, calcula el valor mitjà dels valors introduïts\n",
    "i resta la mitjana resultant de cada un dels valors de la matriu."
   ]
  },
  {
   "cell_type": "code",
   "execution_count": 4,
   "id": "bb791037",
   "metadata": {},
   "outputs": [
    {
     "name": "stdout",
     "output_type": "stream",
     "text": [
      "Original:  [4 5 8 7 6 9 1 2]\n",
      "Valor mitja:  5.25\n",
      "Resultat:  [-1.25 -0.25  2.75  1.75  0.75  3.75 -4.25 -3.25]\n"
     ]
    }
   ],
   "source": [
    "m = myarray.mean()\n",
    "print('Original: ', myarray)\n",
    "print('Valor mitja: ', m)\n",
    "print('Resultat: ', np.subtract(myarray,m))\n"
   ]
  },
  {
   "cell_type": "markdown",
   "id": "f8f31fd6",
   "metadata": {},
   "source": [
    "### Exercici 3\n",
    "\n",
    "Crea una matriu bidimensional amb una forma de 5 x 5. Extreu el valor màxim de la matriu, i els valors màxims de cadascun dels seus eixos."
   ]
  },
  {
   "cell_type": "code",
   "execution_count": 6,
   "id": "f508a7c3",
   "metadata": {},
   "outputs": [
    {
     "name": "stdout",
     "output_type": "stream",
     "text": [
      "Matriu original 5x5: \n",
      " [[0.10899056 0.55171772 0.84349338 0.83867406 0.48027947]\n",
      " [0.81590769 0.87501964 0.70534967 0.835473   0.40656205]\n",
      " [0.27996338 0.04074565 0.14391467 0.40329962 0.59076435]\n",
      " [0.7399763  0.05161553 0.31404581 0.01510192 0.66672287]\n",
      " [0.79768748 0.52184295 0.75563963 0.35923093 0.42502305]]\n",
      "\n",
      "Valor maxim matriu:  0.8750196413555081\n",
      "Valors maxims eix 0 :  [0.81590769 0.87501964 0.84349338 0.83867406 0.66672287]\n",
      "Valors maxims eix 1 :  [0.84349338 0.87501964 0.59076435 0.7399763  0.79768748]\n"
     ]
    }
   ],
   "source": [
    "bidi = np.random.random((5,5))\n",
    "\n",
    "\n",
    "\n",
    "print('Matriu original 5x5: \\n', bidi)\n",
    "print('\\nValor maxim matriu: ', bidi.max())\n",
    "print('Valors maxims eix 0 : ', bidi.max(axis=0))\n",
    "print('Valors maxims eix 1 : ', bidi.max(axis=1))"
   ]
  },
  {
   "cell_type": "markdown",
   "id": "466733d3",
   "metadata": {},
   "source": [
    "### Exercici 4\n",
    "\n",
    "Mostreu-me amb exemples de diferents matrius, la regla fonamental de Broadcasting que diu : \"les matrius es poden transmetre / broadcast si les seves dimensions coincideixen o si una de les matrius té una mida d'1\"."
   ]
  },
  {
   "cell_type": "code",
   "execution_count": 36,
   "id": "21f1f367",
   "metadata": {},
   "outputs": [
    {
     "name": "stdout",
     "output_type": "stream",
     "text": [
      "matriu A \n",
      " [0.75954308 0.92419141 0.82852198] A té una sola dimensió que es pot extendre al llarg de qualsevol matriu amb \n",
      "                                    una primera dimensió de longitud 3, per tant pot sumar-se tant a B i C\n",
      "                                    pero no a D ja que tenen mesures diferents i no encaixen (al igual que\n",
      "                                    B i C entre elles) \n",
      "\n",
      "matriu B \n",
      " [[0.69546795 0.42224877 0.37888741]\n",
      " [0.46257643 0.65527899 0.87381112]\n",
      " [0.85573793 0.25540876 0.71475714]] \n",
      "\n",
      "matriu C \n",
      " [[0.56720484 0.56021604 0.1168509 ]\n",
      " [0.14519159 0.68237794 0.22267299]] \n",
      "\n",
      "matriu D \n",
      " [[0.75190344 0.31691496 0.49911381 0.86877052]\n",
      " [0.58870338 0.72334782 0.6089209  0.37614631]] \n",
      "\n",
      "A+B \n",
      " [[1.45501103 1.34644018 1.20740939]\n",
      " [1.22211951 1.5794704  1.70233311]\n",
      " [1.61528101 1.17960018 1.54327913]] \n",
      "\n",
      "A+C \n",
      " [[1.32674792 1.48440745 0.94537288]\n",
      " [0.90473467 1.60656935 1.05119497]] \n",
      "\n",
      "B+B \n",
      " [[1.39093591 0.84449754 0.75777482]\n",
      " [0.92515285 1.31055798 1.74762225]\n",
      " [1.71147586 0.51081753 1.42951429]] B sumada a ella mateixa es un exemple de coincidencia de dimensions \n",
      "\n",
      "A+D en canvi ens donara error perque els tamanys no coincideixen\n"
     ]
    },
    {
     "ename": "ValueError",
     "evalue": "operands could not be broadcast together with shapes (3,) (2,4) ",
     "output_type": "error",
     "traceback": [
      "\u001b[1;31m---------------------------------------------------------------------------\u001b[0m",
      "\u001b[1;31mValueError\u001b[0m                                Traceback (most recent call last)",
      "\u001b[1;32m~\\AppData\\Local\\Temp/ipykernel_9488/1571631918.py\u001b[0m in \u001b[0;36m<module>\u001b[1;34m\u001b[0m\n\u001b[0;32m     14\u001b[0m \u001b[0mprint\u001b[0m\u001b[1;33m(\u001b[0m\u001b[1;34m'B+B \\n'\u001b[0m\u001b[1;33m,\u001b[0m \u001b[0mB\u001b[0m\u001b[1;33m+\u001b[0m\u001b[0mB\u001b[0m\u001b[1;33m,\u001b[0m \u001b[1;34m'B sumada a ella mateixa es un exemple de coincidencia de dimensions \\n'\u001b[0m\u001b[1;33m)\u001b[0m\u001b[1;33m\u001b[0m\u001b[1;33m\u001b[0m\u001b[0m\n\u001b[0;32m     15\u001b[0m \u001b[0mprint\u001b[0m\u001b[1;33m(\u001b[0m\u001b[1;34m'A+D en canvi ens donara error perque els tamanys no coincideixen'\u001b[0m\u001b[1;33m)\u001b[0m\u001b[1;33m\u001b[0m\u001b[1;33m\u001b[0m\u001b[0m\n\u001b[1;32m---> 16\u001b[1;33m \u001b[0mprint\u001b[0m\u001b[1;33m(\u001b[0m\u001b[1;34m'A+D \\n'\u001b[0m\u001b[1;33m,\u001b[0m \u001b[0mA\u001b[0m\u001b[1;33m+\u001b[0m\u001b[0mD\u001b[0m\u001b[1;33m,\u001b[0m \u001b[1;34m'\\n'\u001b[0m\u001b[1;33m)\u001b[0m\u001b[1;33m\u001b[0m\u001b[1;33m\u001b[0m\u001b[0m\n\u001b[0m",
      "\u001b[1;31mValueError\u001b[0m: operands could not be broadcast together with shapes (3,) (2,4) "
     ]
    }
   ],
   "source": [
    "A = np.random.random((3))\n",
    "B = np.random.random((3,3))\n",
    "C = np.random.random((2,3))\n",
    "D = np.random.random((2,4))\n",
    "print('matriu A \\n', A, '''A té una sola dimensió que es pot extendre al llarg de qualsevol matriu amb \n",
    "                                    una primera dimensió de longitud 3, per tant pot sumar-se tant a B i C\n",
    "                                    pero no a D ja que tenen mesures diferents i no encaixen (al igual que\n",
    "                                    B i C entre elles) \\n''')\n",
    "print('matriu B \\n', B, '\\n')\n",
    "print('matriu C \\n', C, '\\n')\n",
    "print('matriu D \\n', D, '\\n')\n",
    "print('A+B \\n', A+B, '\\n')\n",
    "print('A+C \\n', A+C, '\\n')\n",
    "print('B+B \\n', B+B, 'B sumada a ella mateixa es un exemple de coincidencia de dimensions \\n')\n",
    "print('A+D en canvi ens donara error perque els tamanys no coincideixen')\n",
    "print('A+D \\n', A+D, '\\n')\n"
   ]
  },
  {
   "cell_type": "markdown",
   "id": "fe02e1e1",
   "metadata": {},
   "source": [
    "### Exercici 5\n",
    "\n",
    "Utilitza la Indexació per extreure els valors d'una columna i una fila de la matriu. I suma els seus valors."
   ]
  },
  {
   "cell_type": "code",
   "execution_count": 32,
   "id": "7a56b474",
   "metadata": {},
   "outputs": [
    {
     "name": "stdout",
     "output_type": "stream",
     "text": [
      "Primera fila \n",
      " [0.10899056 0.55171772 0.84349338 0.83867406 0.48027947]\n",
      "\n",
      "Segona columna \n",
      " [0.55171772 0.87501964 0.04074565 0.05161553 0.52184295]\n",
      "\n",
      "Suma : [0.66070828 1.42673736 0.88423903 0.89028959 1.00212242]\n"
     ]
    }
   ],
   "source": [
    "row1 = bidi[0]\n",
    "print('Primera fila \\n',row1)\n",
    "\n",
    "col2 = bidi[:,1]\n",
    "print('\\nSegona columna \\n', col2)\n",
    "\n",
    "print('\\nSuma :', row1 + col2)"
   ]
  },
  {
   "cell_type": "markdown",
   "id": "afb1e12f",
   "metadata": {},
   "source": [
    "### Exercici 6\n",
    "\n",
    "Mask la matriu anterior, realitzeu un càlcul booleà vectoritzat, agafant cada element i comprovant si es divideix uniformement per quatre.\n",
    "\n",
    "Això retorna una matriu de mask de la mateixa forma amb els resultats elementals del càlcul."
   ]
  },
  {
   "cell_type": "code",
   "execution_count": null,
   "id": "95d36949",
   "metadata": {},
   "outputs": [],
   "source": []
  }
 ],
 "metadata": {
  "kernelspec": {
   "display_name": "Python 3 (ipykernel)",
   "language": "python",
   "name": "python3"
  },
  "language_info": {
   "codemirror_mode": {
    "name": "ipython",
    "version": 3
   },
   "file_extension": ".py",
   "mimetype": "text/x-python",
   "name": "python",
   "nbconvert_exporter": "python",
   "pygments_lexer": "ipython3",
   "version": "3.9.7"
  }
 },
 "nbformat": 4,
 "nbformat_minor": 5
}
